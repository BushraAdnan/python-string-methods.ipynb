{
  "nbformat": 4,
  "nbformat_minor": 0,
  "metadata": {
    "colab": {
      "provenance": [],
      "authorship_tag": "ABX9TyOAM9g5WfTG4MHVKDviCbYI",
      "include_colab_link": true
    },
    "kernelspec": {
      "name": "python3",
      "display_name": "Python 3"
    },
    "language_info": {
      "name": "python"
    }
  },
  "cells": [
    {
      "cell_type": "markdown",
      "metadata": {
        "id": "view-in-github",
        "colab_type": "text"
      },
      "source": [
        "<a href=\"https://colab.research.google.com/github/BushraAdnan/PIAIC-BATCH61/blob/main/python_string_methods.ipynb\" target=\"_parent\"><img src=\"https://colab.research.google.com/assets/colab-badge.svg\" alt=\"Open In Colab\"/></a>"
      ]
    },
    {
      "cell_type": "markdown",
      "source": [
        "\n",
        "##Python String (Simplified)\n",
        "A Python string is a sequence of characters enclosed in quotes (' ', \" \", ''' ''', \"\"\" \"\"\"). It can contain text, numbers, and symbols."
      ],
      "metadata": {
        "id": "3Ai-xuPW6DJf"
      }
    },
    {
      "cell_type": "markdown",
      "source": [
        "Example:"
      ],
      "metadata": {
        "id": "ykm8hExq6bkU"
      }
    },
    {
      "cell_type": "code",
      "source": [
        "text = \"Hello, World!\"\n",
        "print(text)\n"
      ],
      "metadata": {
        "colab": {
          "base_uri": "https://localhost:8080/"
        },
        "id": "0wyYWY0w6dEE",
        "outputId": "b9c34816-fb47-44a4-e1da-8ecdc2dff3ee"
      },
      "execution_count": null,
      "outputs": [
        {
          "output_type": "stream",
          "name": "stdout",
          "text": [
            "Hello, World!\n"
          ]
        }
      ]
    },
    {
      "cell_type": "markdown",
      "source": [
        "###Python String Methods\n",
        "Python string methods are built-in functions that enable manipulation, querying, and modification of string objects. These methods typically return a new string without changing the original."
      ],
      "metadata": {
        "id": "3sD6y5ll7Mqu"
      }
    },
    {
      "cell_type": "markdown",
      "source": [
        "#Example:"
      ],
      "metadata": {
        "id": "c-zAZUMd7hv0"
      }
    },
    {
      "cell_type": "markdown",
      "source": [
        "##capitalize()\n",
        "**Definition**: The capitalize() method returns a copy of the string with the first character converted to uppercase and all other characters converted to lowercase."
      ],
      "metadata": {
        "id": "5sG9qu3V7ur2"
      }
    },
    {
      "cell_type": "code",
      "source": [
        "text = \"hello, world!\"\n",
        "capitalized_text = text.capitalize()\n",
        "print(capitalized_text)   # Output: \"Hello, world!\"\n",
        "\n"
      ],
      "metadata": {
        "colab": {
          "base_uri": "https://localhost:8080/"
        },
        "id": "_yHKGlHG8WVb",
        "outputId": "a6d6d985-3fd2-4d15-c6d6-547b3cc4623a"
      },
      "execution_count": null,
      "outputs": [
        {
          "output_type": "stream",
          "name": "stdout",
          "text": [
            "Hello, world!\n"
          ]
        }
      ]
    },
    {
      "cell_type": "markdown",
      "source": [
        "**Usage**: Used when you need to format a string such that only the initial character is uppercase, and the rest are lowercase."
      ],
      "metadata": {
        "id": "gmXAgpIa86dF"
      }
    },
    {
      "cell_type": "markdown",
      "source": [
        "##casefold()\n",
        "**Definition**: The casefold() method returns a case-insensitive version of the string. It is used to perform case-insensitive comparisons by converting the string to lowercase in a more aggressive manner than lower()."
      ],
      "metadata": {
        "id": "G8Cg8Ia99H9G"
      }
    },
    {
      "cell_type": "code",
      "source": [
        "text = \"Hello, World!\"\n",
        "casefolded_text = text.casefold()\n",
        "print(casefolded_text)  # Output: \"hello, world!\"\n"
      ],
      "metadata": {
        "colab": {
          "base_uri": "https://localhost:8080/"
        },
        "id": "F-uXBpDr9fgb",
        "outputId": "a5b9a421-9732-41f9-a39c-7b2adb8b6495"
      },
      "execution_count": null,
      "outputs": [
        {
          "output_type": "stream",
          "name": "stdout",
          "text": [
            "hello, world!\n"
          ]
        }
      ]
    },
    {
      "cell_type": "markdown",
      "source": [
        "**Usage**: Ideal for case-insensitive string comparisons and searches. It’s particularly useful for normalizing text for comparison in a case-insensitive manner."
      ],
      "metadata": {
        "id": "_lEbdc-H9xP2"
      }
    },
    {
      "cell_type": "markdown",
      "source": [
        "##center()\n",
        "**Definition**: The center(width, fillchar) method returns a new string of a specified width, with the original string centered and padded with the specified fillchar (default is a space) on both sides.\n",
        "\n",
        "**Parameters**:\n",
        "\n",
        "***width***: The total width of the new string.\n",
        "\n",
        "**fillchar**: Optional character to fill the padding (default is a space)."
      ],
      "metadata": {
        "id": "c_EZaxoM-PJR"
      }
    },
    {
      "cell_type": "code",
      "source": [
        "text = \"Python\"\n",
        "centered_text = text.center(20, '*')\n",
        "print(centered_text)  # Output: \"*******Python*******\"\n"
      ],
      "metadata": {
        "colab": {
          "base_uri": "https://localhost:8080/"
        },
        "id": "n1u_y3_L-sJT",
        "outputId": "2f535cfd-3893-4c3e-897a-6d4a39d96001"
      },
      "execution_count": null,
      "outputs": [
        {
          "output_type": "stream",
          "name": "stdout",
          "text": [
            "*******Python*******\n"
          ]
        }
      ]
    },
    {
      "cell_type": "markdown",
      "source": [
        "**Usage**: Useful for formatting text in a centered alignment, often used for creating visually organized outputs."
      ],
      "metadata": {
        "id": "NmEadRiP-_eV"
      }
    },
    {
      "cell_type": "markdown",
      "source": [
        "##count()\n",
        "**Definition**:\n",
        "The count(substring, start=0, end=len(string)) method returns the number of non-overlapping occurrences of a specified substring within a given range of the string.\n",
        "\n",
        "**Parameters**:\n",
        "\n",
        "substring: The substring whose occurrences you want to count.\n",
        "start (optional): The starting index for the search (default is 0).\n",
        "end (optional): The ending index for the search (default is the end of the string)."
      ],
      "metadata": {
        "id": "lcdSA0Zb_8Yf"
      }
    },
    {
      "cell_type": "code",
      "source": [
        "text = \"banana\"\n",
        "count_a = text.count(\"a\")\n",
        "print(count_a)  # Output: 3\n"
      ],
      "metadata": {
        "colab": {
          "base_uri": "https://localhost:8080/"
        },
        "id": "lv6kjYjQATh7",
        "outputId": "6065cfb4-11b8-4b21-88a6-5575977eb3a4"
      },
      "execution_count": null,
      "outputs": [
        {
          "output_type": "stream",
          "name": "stdout",
          "text": [
            "3\n"
          ]
        }
      ]
    },
    {
      "cell_type": "markdown",
      "source": [
        "**Usage**\n",
        "\n",
        "*Useful for determining the frequency of a specific substring within a string.\n",
        "\n",
        "*Can also be used to count occurrences within a specific range of indices."
      ],
      "metadata": {
        "id": "4bznmQtOAbiE"
      }
    },
    {
      "cell_type": "markdown",
      "source": [
        "##encode()\n",
        "**Definition:**\n",
        "\n",
        "The encode(encoding='utf-8', errors='strict') method returns an encoded version of the string as bytes. It converts the string from its default character representation to a specified encoding format.\n",
        "\n",
        "#Parameters:\n",
        "\n",
        "**encoding** (optional): The encoding format to use (default is 'utf-8').\n",
        "\n",
        "**errors ** (optional): Specifies how to handle encoding errors (default is 'strict', which raises a UnicodeEncodeError). Other options include 'ignore' and 'replace'."
      ],
      "metadata": {
        "id": "iyV3TuGjCRgf"
      }
    },
    {
      "cell_type": "code",
      "source": [
        "text = \"Hello, World!\"\n",
        "encoded_text = text.encode('utf-8')\n",
        "print(encoded_text)  # Output: b'Hello, World!'\n"
      ],
      "metadata": {
        "colab": {
          "base_uri": "https://localhost:8080/"
        },
        "id": "Z1FmYJvNCoxU",
        "outputId": "b28780e0-0e19-4027-deae-be886f79b9ee"
      },
      "execution_count": null,
      "outputs": [
        {
          "output_type": "stream",
          "name": "stdout",
          "text": [
            "b'Hello, World!'\n"
          ]
        }
      ]
    },
    {
      "cell_type": "markdown",
      "source": [
        "#Usage:\n",
        "\n",
        "Used when you need to convert a string into a byte representation for storage or transmission.\n",
        "\n",
        "Commonly used for encoding text in different formats like UTF-8, ASCII, etc."
      ],
      "metadata": {
        "id": "Its670l-C96z"
      }
    },
    {
      "cell_type": "markdown",
      "source": [
        "##endswith()\n",
        "**Definition**:\n",
        "\n",
        "Checks if a string ends with a specified suffix."
      ],
      "metadata": {
        "id": "Uv178sUYDtWP"
      }
    },
    {
      "cell_type": "code",
      "source": [
        "text = \"file.txt\"\n",
        "print(text.endswith(\".txt\"))  # Output: True\n"
      ],
      "metadata": {
        "colab": {
          "base_uri": "https://localhost:8080/"
        },
        "id": "KMnZpyrID35W",
        "outputId": "ae7c668d-921c-4010-e054-e274326d35c2"
      },
      "execution_count": null,
      "outputs": [
        {
          "output_type": "stream",
          "name": "stdout",
          "text": [
            "True\n"
          ]
        }
      ]
    },
    {
      "cell_type": "markdown",
      "source": [
        "**Usage**:\n",
        "Useful for verifying file extensions or other endings in strings."
      ],
      "metadata": {
        "id": "OIwd4LWSD9vK"
      }
    },
    {
      "cell_type": "markdown",
      "source": [
        "\n",
        "##expandtabs()\n",
        "**Definition**:\n",
        "\n",
        "Replaces tabs (\\t) in a string with spaces."
      ],
      "metadata": {
        "id": "e8O3DFjYknDJ"
      }
    },
    {
      "cell_type": "code",
      "source": [
        "text = \"Hello\\tWorld\"\n",
        "expanded_text = text.expandtabs(4)\n",
        "print(expanded_text)  # Output: \"Hello   World\"\n"
      ],
      "metadata": {
        "colab": {
          "base_uri": "https://localhost:8080/"
        },
        "id": "-db83LrNkvyC",
        "outputId": "c457abac-9181-4991-f855-0add11943ddb"
      },
      "execution_count": null,
      "outputs": [
        {
          "output_type": "stream",
          "name": "stdout",
          "text": [
            "Hello   World\n"
          ]
        }
      ]
    },
    {
      "cell_type": "markdown",
      "source": [
        "**Usage:**\n",
        "Used to convert tabs into spaces for better text alignment."
      ],
      "metadata": {
        "id": "jSIcqGYqk6qM"
      }
    },
    {
      "cell_type": "markdown",
      "source": [
        "##find()\n",
        "**Definition**:\n",
        "\n",
        "Finds the position of the first occurrence of a substring in a string. Returns -1 if not found."
      ],
      "metadata": {
        "id": "vHayg0sElAe7"
      }
    },
    {
      "cell_type": "code",
      "source": [
        "text = \"Hello, World!\"\n",
        "print(text.find(\"World\"))  # Output: 7\n"
      ],
      "metadata": {
        "colab": {
          "base_uri": "https://localhost:8080/"
        },
        "id": "nkTgrZLuli3H",
        "outputId": "e28c1af3-7713-47f1-d910-ab3e5379404b"
      },
      "execution_count": null,
      "outputs": [
        {
          "output_type": "stream",
          "name": "stdout",
          "text": [
            "7\n"
          ]
        }
      ]
    },
    {
      "cell_type": "markdown",
      "source": [
        "**Usage:**\n",
        "Helps to locate where a substring starts within a string."
      ],
      "metadata": {
        "id": "89FHZtYJlnZ7"
      }
    },
    {
      "cell_type": "markdown",
      "source": [
        "##format()\n",
        "**Definition:**\n",
        "\n",
        "The format() method is used to insert values into a string using placeholders {}."
      ],
      "metadata": {
        "id": "qawAkW_3l_Nc"
      }
    },
    {
      "cell_type": "code",
      "source": [
        "name = \"Alice\"\n",
        "age = 25\n",
        "text = \"My name is {} and I am {} years old.\".format(name, age)\n",
        "print(text)  # Output: \"My name is Alice and I am 25 years old.\"\n"
      ],
      "metadata": {
        "colab": {
          "base_uri": "https://localhost:8080/"
        },
        "id": "SmBeE_LhmHr0",
        "outputId": "b0c38c86-b184-414d-ad83-2f14ecb10950"
      },
      "execution_count": null,
      "outputs": [
        {
          "output_type": "stream",
          "name": "stdout",
          "text": [
            "My name is Alice and I am 25 years old.\n"
          ]
        }
      ]
    },
    {
      "cell_type": "markdown",
      "source": [
        "**Usage:**\n",
        "Used for inserting values into strings, making it easier to create dynamic and readable text."
      ],
      "metadata": {
        "id": "pIxAwE-UmOtY"
      }
    },
    {
      "cell_type": "markdown",
      "source": [
        "##index()\n",
        "**Definition**:\n",
        "\n",
        "Finds the position of the first occurrence of a substring in a string. Raises an error if the substring is not found."
      ],
      "metadata": {
        "id": "FS622-tEmo5C"
      }
    },
    {
      "cell_type": "code",
      "source": [
        "text = \"Hello, World!\"\n",
        "print(text.index(\"World\"))  # Output: 7\n"
      ],
      "metadata": {
        "colab": {
          "base_uri": "https://localhost:8080/"
        },
        "id": "NUvWoTzWmwPI",
        "outputId": "481bed05-51f3-45d0-97aa-1c70005b2538"
      },
      "execution_count": null,
      "outputs": [
        {
          "output_type": "stream",
          "name": "stdout",
          "text": [
            "7\n"
          ]
        }
      ]
    },
    {
      "cell_type": "markdown",
      "source": [
        "**Usage:**\n",
        "Helps to locate a substring's position within a string, but gives an error if the substring is missing."
      ],
      "metadata": {
        "id": "E_5k_T_pm3I1"
      }
    },
    {
      "cell_type": "markdown",
      "source": [
        "##isalnum()\n",
        "**Definition**:\n",
        "The isalnum() method returns True if all characters in the string are alphanumeric (letters and numbers) and the string is not empty. Otherwise, it returns False."
      ],
      "metadata": {
        "id": "zQcUbjeUm-nO"
      }
    },
    {
      "cell_type": "code",
      "source": [
        "text = \"Python123\"\n",
        "print(text.isalnum())  # Output: True\n",
        "\n",
        "text = \"Python 123\"\n",
        "print(text.isalnum())  # Output: False (because of the space)\n"
      ],
      "metadata": {
        "colab": {
          "base_uri": "https://localhost:8080/"
        },
        "id": "BSIgZ2KonX_R",
        "outputId": "843fe046-f61a-4e09-93b7-ebe3bb83db93"
      },
      "execution_count": null,
      "outputs": [
        {
          "output_type": "stream",
          "name": "stdout",
          "text": [
            "True\n",
            "False\n"
          ]
        }
      ]
    },
    {
      "cell_type": "markdown",
      "source": [
        "**Usage:**\n",
        "Used to check if a string consists only of letters and numbers without spaces or special characters."
      ],
      "metadata": {
        "id": "WNnfF-Zgnff0"
      }
    },
    {
      "cell_type": "markdown",
      "source": [
        "##isalpha()\n",
        "**Definition**:\n",
        "\n",
        "The isalpha() method returns True if all characters in the string are alphabetic (letters only) and the string is not empty. Otherwise, it returns False."
      ],
      "metadata": {
        "id": "y_YpsPIWoUjy"
      }
    },
    {
      "cell_type": "code",
      "source": [
        "text = \"Python\"\n",
        "print(text.isalpha())  # Output: True\n",
        "\n",
        "text = \"Python123\"\n",
        "print(text.isalpha())  # Output: False (because of the numbers)\n"
      ],
      "metadata": {
        "colab": {
          "base_uri": "https://localhost:8080/"
        },
        "id": "F-prXEmaokXZ",
        "outputId": "987d4e99-f819-4fda-9683-7c21c6f9ca2b"
      },
      "execution_count": null,
      "outputs": [
        {
          "output_type": "stream",
          "name": "stdout",
          "text": [
            "True\n",
            "False\n"
          ]
        }
      ]
    },
    {
      "cell_type": "markdown",
      "source": [
        "**Usage**:\n",
        "Used to check if a string contains only letters, without numbers or special characters."
      ],
      "metadata": {
        "id": "Zc6Jhgbioyot"
      }
    },
    {
      "cell_type": "markdown",
      "source": [
        "##isascii()\n",
        "**Definition:**\n",
        "The isascii() method returns True if all characters in the string are ASCII (i.e., characters with code points in the range of 0-127). Otherwise, it returns False."
      ],
      "metadata": {
        "id": "H94TO3x2pPID"
      }
    },
    {
      "cell_type": "code",
      "source": [
        "text = \"Hello\"\n",
        "print(text.isascii())  # Output: True\n",
        "\n",
        "text = \"你好\"\n",
        "print(text.isascii())  # Output: False (non-ASCII characters)\n"
      ],
      "metadata": {
        "colab": {
          "base_uri": "https://localhost:8080/"
        },
        "id": "cYuLZUpkpTsU",
        "outputId": "8c0d0bc7-b47d-41e2-f4aa-ba75ea2ac4f2"
      },
      "execution_count": null,
      "outputs": [
        {
          "output_type": "stream",
          "name": "stdout",
          "text": [
            "True\n",
            "False\n"
          ]
        }
      ]
    },
    {
      "cell_type": "markdown",
      "source": [
        "**Usage:**\n",
        "Used to check if a string contains only ASCII characters, which include letters, digits, punctuation, and common symbols."
      ],
      "metadata": {
        "id": "n_CDR3fypare"
      }
    },
    {
      "cell_type": "markdown",
      "source": [
        "##isdecimal()\n",
        "**Definition**:\n",
        "\n",
        "The isdecimal() method returns True if all characters in the string are decimal characters (i.e., digits 0-9), and the string is not empty. Otherwise, it returns False"
      ],
      "metadata": {
        "id": "VLpZxgOCpkQ6"
      }
    },
    {
      "cell_type": "code",
      "source": [
        "text = \"12345\"\n",
        "print(text.isdecimal())  # Output: True\n",
        "\n",
        "text = \"123.45\"\n",
        "print(text.isdecimal())  # Output: False (because of the decimal point)\n",
        "\n",
        "text = \"123abc\"\n",
        "print(text.isdecimal())  # Output: False (because of letters)\n"
      ],
      "metadata": {
        "colab": {
          "base_uri": "https://localhost:8080/"
        },
        "id": "uRn0Nzwep5Xq",
        "outputId": "07a4cb51-2fa8-4224-d10b-68a1aee1b1af"
      },
      "execution_count": null,
      "outputs": [
        {
          "output_type": "stream",
          "name": "stdout",
          "text": [
            "True\n",
            "False\n",
            "False\n"
          ]
        }
      ]
    },
    {
      "cell_type": "markdown",
      "source": [
        "**Usage:**\n",
        "Used to check if a string contains only decimal digits"
      ],
      "metadata": {
        "id": "apyo1itdqBTJ"
      }
    },
    {
      "cell_type": "markdown",
      "source": [
        "\n",
        "##isdigit()\n",
        "**Definition**:\n",
        "\n",
        "The isdigit() method returns True if all characters in the string are digits (0-9), and the string is not empty. Otherwise, it returns False."
      ],
      "metadata": {
        "id": "f7lSVpPMqJLa"
      }
    },
    {
      "cell_type": "code",
      "source": [
        "text = \"12345\"\n",
        "print(text.isdigit())  # Output: True\n",
        "\n",
        "text = \"123.45\"\n",
        "print(text.isdigit())  # Output: False (because of the decimal point)\n"
      ],
      "metadata": {
        "colab": {
          "base_uri": "https://localhost:8080/"
        },
        "id": "lcSBD7kZqXyP",
        "outputId": "18b6d143-34bc-48b8-e514-88b92d8fe955"
      },
      "execution_count": null,
      "outputs": [
        {
          "output_type": "stream",
          "name": "stdout",
          "text": [
            "True\n",
            "False\n"
          ]
        }
      ]
    },
    {
      "cell_type": "markdown",
      "source": [
        "**Usage:**\n",
        "Used to check if a string consists only of digits without any letters or special characters."
      ],
      "metadata": {
        "id": "GJvnOnzbqbsv"
      }
    },
    {
      "cell_type": "markdown",
      "source": [
        "##isidentifier()\n",
        "**Definition**:\n",
        "\n",
        "The isidentifier() method returns True if the string is a valid identifier in Python (i.e., it follows the rules for variable names). It must start with a letter or an underscore and can only contain letters, numbers, and underscores. It must not be a reserved keyword."
      ],
      "metadata": {
        "id": "pf5aOIrwqjCz"
      }
    },
    {
      "cell_type": "code",
      "source": [
        "text = \"variable_name\"\n",
        "print(text.isidentifier())  # Output: True\n",
        "\n",
        "text = \"2variable\"\n",
        "print(text.isidentifier())  # Output: False (starts with a digit)\n",
        "\n",
        "text = \"var name\"\n",
        "print(text.isidentifier())  # Output: False (contains a space)\n"
      ],
      "metadata": {
        "colab": {
          "base_uri": "https://localhost:8080/"
        },
        "id": "kWam7FoFq2ib",
        "outputId": "63334b43-bab9-474c-8fe2-86009f6d5d39"
      },
      "execution_count": null,
      "outputs": [
        {
          "output_type": "stream",
          "name": "stdout",
          "text": [
            "True\n",
            "False\n",
            "False\n"
          ]
        }
      ]
    },
    {
      "cell_type": "markdown",
      "source": [
        "**Usage:**\n",
        "Used to check if a string can be used as a valid variable name or identifier in Python."
      ],
      "metadata": {
        "id": "s7eynuw9rIaQ"
      }
    },
    {
      "cell_type": "markdown",
      "source": [
        "##islower()\n",
        "**Definition**:\n",
        "\n",
        "The islower() method returns True if all characters in the string are lowercase letters and the string is not empty. It returns False otherwise."
      ],
      "metadata": {
        "id": "Ut4KFlJKrPgW"
      }
    },
    {
      "cell_type": "code",
      "source": [
        "text = \"python\"\n",
        "print(text.islower())  # Output: True\n",
        "\n",
        "text = \"Python\"\n",
        "print(text.islower())  # Output: False (because 'P' is uppercase)\n",
        "\n",
        "text = \"python3\"\n",
        "print(text.islower())  # Output: False (because of the number)\n"
      ],
      "metadata": {
        "colab": {
          "base_uri": "https://localhost:8080/"
        },
        "id": "1yxVjDq_rbpp",
        "outputId": "1ab71d21-2f97-48ad-875a-6a66c0933749"
      },
      "execution_count": null,
      "outputs": [
        {
          "output_type": "stream",
          "name": "stdout",
          "text": [
            "True\n",
            "False\n",
            "True\n"
          ]
        }
      ]
    },
    {
      "cell_type": "markdown",
      "source": [
        "**Usage:**\n",
        "Used to check if a string is entirely in lowercase."
      ],
      "metadata": {
        "id": "uFWPkuhjrhf3"
      }
    },
    {
      "cell_type": "markdown",
      "source": [
        "##isnumeric()\n",
        "**Definition:**\n",
        "\n",
        "The isnumeric() method returns True if all characters in the string are numeric characters, which includes digits and other characters that can be used to form numbers (like superscript digits), and the string is not empty. Otherwise, it returns False."
      ],
      "metadata": {
        "id": "R627c8Wnr2RN"
      }
    },
    {
      "cell_type": "code",
      "source": [
        "text = \"12345\"\n",
        "print(text.isnumeric())  # Output: True\n",
        "\n",
        "text = \"123.45\"\n",
        "print(text.isnumeric())  # Output: False (because of the decimal point)\n",
        "\n",
        "text = \"Ⅻ\"  # Roman numeral twelve\n",
        "print(text.isnumeric())  # Output: True\n"
      ],
      "metadata": {
        "colab": {
          "base_uri": "https://localhost:8080/"
        },
        "id": "I7z8PtOer9kP",
        "outputId": "431b8201-7fe1-4e53-b614-4040e5e76f02"
      },
      "execution_count": null,
      "outputs": [
        {
          "output_type": "stream",
          "name": "stdout",
          "text": [
            "True\n",
            "False\n",
            "True\n"
          ]
        }
      ]
    },
    {
      "cell_type": "markdown",
      "source": [
        "**Usage:**\n",
        "Used to check if a string contains only numeric characters, including digits and numeric symbols."
      ],
      "metadata": {
        "id": "XAkwpTt2sL68"
      }
    },
    {
      "cell_type": "markdown",
      "source": [
        "##isprintable()\n",
        "**Definition**:\n",
        "\n",
        "The isprintable() method returns True if all characters in the string are printable (i.e., they are not control characters or whitespace characters like tabs or newlines) and the string is not empty. It returns False otherwise."
      ],
      "metadata": {
        "id": "i6X-znPqsVn7"
      }
    },
    {
      "cell_type": "code",
      "source": [
        "text = \"Hello, World!\"\n",
        "print(text.isprintable())  # Output: True\n",
        "\n",
        "text = \"Hello\\nWorld\"\n",
        "print(text.isprintable())  # Output: False (because of the newline character)\n",
        "\n",
        "text = \"Hello\\tWorld\"\n",
        "print(text.isprintable())  # Output: False (because of the tab character)\n"
      ],
      "metadata": {
        "colab": {
          "base_uri": "https://localhost:8080/"
        },
        "id": "4vBBsmptsqch",
        "outputId": "ec494e55-52dc-44cc-99ea-186704f39c88"
      },
      "execution_count": null,
      "outputs": [
        {
          "output_type": "stream",
          "name": "stdout",
          "text": [
            "True\n",
            "False\n",
            "False\n"
          ]
        }
      ]
    },
    {
      "cell_type": "markdown",
      "source": [
        "**Usage:**\n",
        "Used to check if a string consists only of characters that can be displayed, excluding control characters and non-printable symbols."
      ],
      "metadata": {
        "id": "TakUqKmmswt5"
      }
    },
    {
      "cell_type": "markdown",
      "source": [
        "##isspace()\n",
        "**Definition**:\n",
        "\n",
        "The isspace() method returns True if all characters in the string are whitespace characters (like spaces, tabs, or newlines) and the string is not empty. Otherwise, it returns False."
      ],
      "metadata": {
        "id": "jX1AWIostFQp"
      }
    },
    {
      "cell_type": "code",
      "source": [
        "text = \"   \"  # Only spaces\n",
        "print(text.isspace())  # Output: True\n",
        "\n",
        "text = \"Hello World\"\n",
        "print(text.isspace())  # Output: False (contains non-whitespace characters)\n",
        "\n",
        "text = \"\\t\\n\"  # Tab and newline\n",
        "print(text.isspace())  # Output: True\n"
      ],
      "metadata": {
        "colab": {
          "base_uri": "https://localhost:8080/"
        },
        "id": "fni6OgrJtK24",
        "outputId": "05f3f630-41d5-40ae-f075-ac965b1c9712"
      },
      "execution_count": null,
      "outputs": [
        {
          "output_type": "stream",
          "name": "stdout",
          "text": [
            "True\n",
            "False\n",
            "True\n"
          ]
        }
      ]
    },
    {
      "cell_type": "markdown",
      "source": [
        "**Usage:**\n",
        "Used to check if a string is made up entirely of whitespace characters."
      ],
      "metadata": {
        "id": "suHePPiEtRRe"
      }
    },
    {
      "cell_type": "markdown",
      "source": [
        "##istitle()\n",
        "**Definition**:\n",
        "\n",
        "The istitle() method returns True if the string is in title case, meaning each word starts with an uppercase letter and the remaining letters are lowercase. Returns False otherwise."
      ],
      "metadata": {
        "id": "bZY2c07PtrfW"
      }
    },
    {
      "cell_type": "code",
      "source": [
        "text = \"The Quick Brown Fox\"\n",
        "print(text.istitle())  # Output: True\n",
        "\n",
        "text = \"The quick brown fox\"\n",
        "print(text.istitle())  # Output: False (because \"quick\" and \"brown\" are lowercase)\n",
        "\n",
        "text = \"hello world\"\n",
        "print(text.istitle())  # Output: False (no uppercase at the beginning of words)\n"
      ],
      "metadata": {
        "colab": {
          "base_uri": "https://localhost:8080/"
        },
        "id": "eTZ0bfCMtxQ7",
        "outputId": "f3111cd6-13a2-478a-e018-7c889c0f0044"
      },
      "execution_count": null,
      "outputs": [
        {
          "output_type": "stream",
          "name": "stdout",
          "text": [
            "True\n",
            "False\n",
            "False\n"
          ]
        }
      ]
    },
    {
      "cell_type": "markdown",
      "source": [
        "**Usage**:\n",
        "Used to check if a string is formatted with each word capitalized, often used for proper titles or headings."
      ],
      "metadata": {
        "id": "rsQQTshzt0a6"
      }
    },
    {
      "cell_type": "markdown",
      "source": [
        "##isupper()\n",
        "**Definition**:\n",
        "\n",
        "The isupper() method returns True if all characters in the string are uppercase letters and the string is not empty. It returns False otherwise."
      ],
      "metadata": {
        "id": "Gmta3Cu8uHIk"
      }
    },
    {
      "cell_type": "code",
      "source": [
        "text = \"HELLO WORLD\"\n",
        "print(text.isupper())  # Output: True\n",
        "\n",
        "text = \"Hello World\"\n",
        "print(text.isupper())  # Output: False (because 'H' and 'W' are uppercase, but others are not)\n",
        "\n",
        "text = \"HELLO world\"\n",
        "print(text.isupper())  # Output: False (because 'world' is lowercase)\n"
      ],
      "metadata": {
        "colab": {
          "base_uri": "https://localhost:8080/"
        },
        "id": "1YQlifxZuPqf",
        "outputId": "ab819e82-694c-45f8-e06f-b559672ce38d"
      },
      "execution_count": null,
      "outputs": [
        {
          "output_type": "stream",
          "name": "stdout",
          "text": [
            "True\n",
            "False\n",
            "False\n"
          ]
        }
      ]
    },
    {
      "cell_type": "markdown",
      "source": [
        "**Usage:**\n",
        "Used to check if a string is entirely in uppercase letters."
      ],
      "metadata": {
        "id": "S2VOG2ySuTVJ"
      }
    },
    {
      "cell_type": "markdown",
      "source": [
        "##join()\n",
        "**Definition**:\n",
        "\n",
        "The join(iterable) method returns a string that is the concatenation of the elements in the provided iterable (like a list or tuple), separated by the string on which the method was called."
      ],
      "metadata": {
        "id": "ECOYIOOyujyd"
      }
    },
    {
      "cell_type": "code",
      "source": [
        "words = [\"Hello\", \"world\"]\n",
        "joined_text = \" \".join(words)\n",
        "print(joined_text)  # Output: \"Hello world\"\n"
      ],
      "metadata": {
        "colab": {
          "base_uri": "https://localhost:8080/"
        },
        "id": "xv1_iPljuqjG",
        "outputId": "311cf3b1-ed47-49d6-fc36-62a7130c4040"
      },
      "execution_count": null,
      "outputs": [
        {
          "output_type": "stream",
          "name": "stdout",
          "text": [
            "Hello world\n"
          ]
        }
      ]
    },
    {
      "cell_type": "markdown",
      "source": [
        "**Usage**:\n",
        "Used to combine elements of an iterable into a single string with a specified separator."
      ],
      "metadata": {
        "id": "GCfW98q6uuHo"
      }
    },
    {
      "cell_type": "markdown",
      "source": [
        "##ljust()\n",
        "**Definition**:\n",
        "\n",
        "Pads a string with a specified character (default is space) on the right, making the string a certain length."
      ],
      "metadata": {
        "id": "o0apj2-oXp5n"
      }
    },
    {
      "cell_type": "code",
      "source": [
        "text = \"Hi\"\n",
        "print(text.ljust(5, '*'))  # Output: \"Hi***\"\n"
      ],
      "metadata": {
        "colab": {
          "base_uri": "https://localhost:8080/"
        },
        "id": "QwlNTb5eX36H",
        "outputId": "493d688e-4e70-4ef9-df06-e636fc058da1"
      },
      "execution_count": 1,
      "outputs": [
        {
          "output_type": "stream",
          "name": "stdout",
          "text": [
            "Hi***\n"
          ]
        }
      ]
    },
    {
      "cell_type": "markdown",
      "source": [
        "**Usage:**\n",
        "Used to make a string longer by adding characters on the right."
      ],
      "metadata": {
        "id": "w_xpMIVtX_IP"
      }
    },
    {
      "cell_type": "markdown",
      "source": [
        "\n",
        "##lower()\n",
        "**Definition:**\n",
        "\n",
        "The lower() method returns a copy of the string with all uppercase letters converted to lowercase."
      ],
      "metadata": {
        "id": "ftaMQw2oYT4V"
      }
    },
    {
      "cell_type": "code",
      "source": [
        "text = \"HELLO\"\n",
        "print(text.lower())  # Output: \"hello\"\n"
      ],
      "metadata": {
        "colab": {
          "base_uri": "https://localhost:8080/"
        },
        "id": "bNAmxo3xYYgg",
        "outputId": "432644c5-0e2e-4cb3-d097-a559f589be6b"
      },
      "execution_count": 2,
      "outputs": [
        {
          "output_type": "stream",
          "name": "stdout",
          "text": [
            "hello\n"
          ]
        }
      ]
    },
    {
      "cell_type": "markdown",
      "source": [
        "**Usage:**\n",
        "Used to convert a string to all lowercase letters."
      ],
      "metadata": {
        "id": "EiSrJbXdYcIl"
      }
    },
    {
      "cell_type": "markdown",
      "source": [
        "##lstrip()\n",
        "**Definition:**\n",
        "\n",
        "The lstrip() method removes any leading characters (spaces by default) from the beginning of a string."
      ],
      "metadata": {
        "id": "gDkdWZkqYl1i"
      }
    },
    {
      "cell_type": "code",
      "source": [
        "text = \"   Hello World!   \"\n",
        "print(text.lstrip())  # Output: \"Hello World!   \"\n"
      ],
      "metadata": {
        "colab": {
          "base_uri": "https://localhost:8080/"
        },
        "id": "NwdqckjmY0MJ",
        "outputId": "00c4cdfa-fe4a-4072-d0d1-60576561370a"
      },
      "execution_count": 3,
      "outputs": [
        {
          "output_type": "stream",
          "name": "stdout",
          "text": [
            "Hello World!   \n"
          ]
        }
      ]
    },
    {
      "cell_type": "markdown",
      "source": [
        "**Usage:**\n",
        "Used to remove unwanted spaces or specified characters from the left side of a string."
      ],
      "metadata": {
        "id": "S50XwTDVY7zu"
      }
    },
    {
      "cell_type": "markdown",
      "source": [
        "##maketrans()\n",
        "**Definition:**\n",
        "\n",
        "Creates a mapping table for replacing specific characters in a string, which is used with the translate() method."
      ],
      "metadata": {
        "id": "a2opPNbQZzvP"
      }
    },
    {
      "cell_type": "code",
      "source": [
        "trans_table = str.maketrans(\"abc\", \"123\")\n",
        "text = \"abcde\"\n",
        "print(text.translate(trans_table))  # Output: \"123de\"\n"
      ],
      "metadata": {
        "colab": {
          "base_uri": "https://localhost:8080/"
        },
        "id": "Cl-gAQsTZ6Es",
        "outputId": "75c08f75-b10c-4a7b-95fd-dee3a718a10a"
      },
      "execution_count": 4,
      "outputs": [
        {
          "output_type": "stream",
          "name": "stdout",
          "text": [
            "123de\n"
          ]
        }
      ]
    },
    {
      "cell_type": "markdown",
      "source": [
        "**Usage:**\n",
        "Used to set up character replacements in a string."
      ],
      "metadata": {
        "id": "-lUTTps3aG1D"
      }
    },
    {
      "cell_type": "markdown",
      "source": [
        "##partition()\n",
        "**Definition:**\n",
        "\n",
        "The partition() method splits a string into three parts: the part before the specified separator, the separator itself, and the part after the separator. It returns a tuple with these three parts."
      ],
      "metadata": {
        "id": "VIfo0OqeaPfJ"
      }
    },
    {
      "cell_type": "code",
      "source": [
        "text = \"Hello, World!\"\n",
        "result = text.partition(\", \")\n",
        "print(result)  # Output: ('Hello', ', ', 'World!')\n"
      ],
      "metadata": {
        "colab": {
          "base_uri": "https://localhost:8080/"
        },
        "id": "EfBYFA-5ask8",
        "outputId": "687315b3-6e3e-42a0-dba5-1584652644e7"
      },
      "execution_count": 5,
      "outputs": [
        {
          "output_type": "stream",
          "name": "stdout",
          "text": [
            "('Hello', ', ', 'World!')\n"
          ]
        }
      ]
    },
    {
      "cell_type": "markdown",
      "source": [
        "**Usage:**\n",
        "Used to divide a string into three parts based on the first occurrence of a specified separator."
      ],
      "metadata": {
        "id": "3ljFJxNfayDH"
      }
    },
    {
      "cell_type": "markdown",
      "source": [
        "##removeprefix()\n",
        "**Definition:**\n",
        "\n",
        "The removeprefix() method removes the specified prefix from the string, if it starts with that prefix. If the string does not start with the prefix, it returns the original string unchanged."
      ],
      "metadata": {
        "id": "cjUBrMRJa5Hw"
      }
    },
    {
      "cell_type": "code",
      "source": [
        "text = \"PythonProgramming\"\n",
        "result = text.removeprefix(\"Python\")\n",
        "print(result)  # Output: \"Programming\"\n"
      ],
      "metadata": {
        "colab": {
          "base_uri": "https://localhost:8080/"
        },
        "id": "xV8_1dWwbTt-",
        "outputId": "b5b7b15f-e91a-44c7-f773-da1f9c77e37d"
      },
      "execution_count": 6,
      "outputs": [
        {
          "output_type": "stream",
          "name": "stdout",
          "text": [
            "Programming\n"
          ]
        }
      ]
    },
    {
      "cell_type": "markdown",
      "source": [
        "**Usage:**\n",
        "Used to remove a specific prefix from the start of a string."
      ],
      "metadata": {
        "id": "R-RgUuPjbX71"
      }
    },
    {
      "cell_type": "markdown",
      "source": [
        "##removesuffix()\n",
        "**Definition:**\n",
        "\n",
        "The removesuffix() method removes the specified suffix from the string, if it ends with that suffix. If the string does not end with the suffix, it returns the original string unchanged."
      ],
      "metadata": {
        "id": "uXcFZq4JbeY8"
      }
    },
    {
      "cell_type": "code",
      "source": [
        "text = \"PythonProgramming\"\n",
        "result = text.removesuffix(\"Programming\")\n",
        "print(result)  # Output: \"Python\"\n"
      ],
      "metadata": {
        "colab": {
          "base_uri": "https://localhost:8080/"
        },
        "id": "zfuF4Bvhb3Kz",
        "outputId": "822230a0-e59f-490a-cbc9-8d6ce389fff3"
      },
      "execution_count": 7,
      "outputs": [
        {
          "output_type": "stream",
          "name": "stdout",
          "text": [
            "Python\n"
          ]
        }
      ]
    },
    {
      "cell_type": "markdown",
      "source": [
        "**Usage:**\n",
        "Used to remove a specific suffix from the end of a string."
      ],
      "metadata": {
        "id": "4_ISeEYEb7PJ"
      }
    },
    {
      "cell_type": "markdown",
      "source": [
        "##replace()\n",
        "**Definition:**\n",
        "\n",
        "Replaces all occurrences of a specified substring with another substring."
      ],
      "metadata": {
        "id": "qDaf-XI6cCQa"
      }
    },
    {
      "cell_type": "code",
      "source": [
        "text = \"Hello world\"\n",
        "print(text.replace(\"world\", \"Python\"))  # Output: \"Hello Python\"\n"
      ],
      "metadata": {
        "colab": {
          "base_uri": "https://localhost:8080/"
        },
        "id": "8KwqNS_BcpId",
        "outputId": "0e8de23d-11e9-4823-ce0f-3c3ee5b6d591"
      },
      "execution_count": 8,
      "outputs": [
        {
          "output_type": "stream",
          "name": "stdout",
          "text": [
            "Hello Python\n"
          ]
        }
      ]
    },
    {
      "cell_type": "markdown",
      "source": [
        "**Usage:**\n",
        "Used to change parts of a string to new text."
      ],
      "metadata": {
        "id": "mMypPkLtcsoN"
      }
    },
    {
      "cell_type": "markdown",
      "source": [
        "##rfind()\n",
        "**Definition:**\n",
        "\n",
        "Finds the position of the last occurrence of a substring in a string. Returns -1 if not found."
      ],
      "metadata": {
        "id": "FzZgBnSzcyP2"
      }
    },
    {
      "cell_type": "code",
      "source": [
        "text = \"hello hello\"\n",
        "print(text.rfind(\"hello\"))  # Output: 6\n"
      ],
      "metadata": {
        "colab": {
          "base_uri": "https://localhost:8080/"
        },
        "id": "jldHiXjcdG3E",
        "outputId": "d554a8ff-e492-4968-b8f3-0b6a7b399b81"
      },
      "execution_count": 9,
      "outputs": [
        {
          "output_type": "stream",
          "name": "stdout",
          "text": [
            "6\n"
          ]
        }
      ]
    },
    {
      "cell_type": "markdown",
      "source": [
        "**Usage**:\n",
        "Used to locate the last instance of a substring."
      ],
      "metadata": {
        "id": "a5SF0-gIdKAo"
      }
    },
    {
      "cell_type": "markdown",
      "source": [
        "##rindex()\n",
        "**Definition:**\n",
        "\n",
        "Finds the position of the last occurrence of a substring in a string. Raises an error if not found."
      ],
      "metadata": {
        "id": "yjWg16t3dPxD"
      }
    },
    {
      "cell_type": "code",
      "source": [
        "text = \"hello world hello\"\n",
        "print(text.rindex(\"hello\"))  # Output: 12\n"
      ],
      "metadata": {
        "colab": {
          "base_uri": "https://localhost:8080/"
        },
        "id": "-Qr0ekmgdfKL",
        "outputId": "e35d0cf8-8cd8-4562-80de-4fa47bd8eeb4"
      },
      "execution_count": 10,
      "outputs": [
        {
          "output_type": "stream",
          "name": "stdout",
          "text": [
            "12\n"
          ]
        }
      ]
    },
    {
      "cell_type": "markdown",
      "source": [
        "**Usage:**\n",
        "Used to locate the last instance of a substring, with an error if the substring is missing"
      ],
      "metadata": {
        "id": "A2_qa_C6dlQn"
      }
    },
    {
      "cell_type": "markdown",
      "source": [
        "##rjust()\n",
        "**Definition:**\n",
        "\n",
        "Pads a string with a specified character (default is space) on the left, making the string a certain length."
      ],
      "metadata": {
        "id": "TGaZzrX6eQXD"
      }
    },
    {
      "cell_type": "code",
      "source": [
        "text = \"Hi\"\n",
        "print(text.rjust(5, '*'))  # Output: \"**Hi\"\n"
      ],
      "metadata": {
        "colab": {
          "base_uri": "https://localhost:8080/"
        },
        "id": "LO-bwi6VeaAh",
        "outputId": "7f54b99a-bcb7-4bf0-91b3-453837919265"
      },
      "execution_count": 11,
      "outputs": [
        {
          "output_type": "stream",
          "name": "stdout",
          "text": [
            "***Hi\n"
          ]
        }
      ]
    },
    {
      "cell_type": "markdown",
      "source": [
        "**Usage:**\n",
        "Used to make a string longer by adding characters on the left."
      ],
      "metadata": {
        "id": "5B4c2aToeiD5"
      }
    },
    {
      "cell_type": "markdown",
      "source": [
        "##rpartition()\n",
        "**Definition:**\n",
        "\n",
        "Splits a string into three parts based on the last occurrence of a separator: the part before, the separator itself, and the part after."
      ],
      "metadata": {
        "id": "tSXmumlZe6FG"
      }
    },
    {
      "cell_type": "code",
      "source": [
        "text = \"apple,banana,cherry\"\n",
        "print(text.rpartition(\",\"))  # Output: ('apple,banana', ',', 'cherry')\n"
      ],
      "metadata": {
        "colab": {
          "base_uri": "https://localhost:8080/"
        },
        "id": "9mjSh2sYe-BH",
        "outputId": "a9a261e6-6b33-40df-c07f-cbeea0a23758"
      },
      "execution_count": 12,
      "outputs": [
        {
          "output_type": "stream",
          "name": "stdout",
          "text": [
            "('apple,banana', ',', 'cherry')\n"
          ]
        }
      ]
    },
    {
      "cell_type": "markdown",
      "source": [
        "**Usage:**\n",
        "Used to split a string into parts around the last occurrence of a separator."
      ],
      "metadata": {
        "id": "HRLiTJ-7fCCX"
      }
    },
    {
      "cell_type": "markdown",
      "source": [
        "##rsplit()\n",
        "**Definition:**\n",
        "\n",
        "Splits a string into a list of substrings from the right."
      ],
      "metadata": {
        "id": "mzSi1fsDfMYR"
      }
    },
    {
      "cell_type": "code",
      "source": [
        "text = \"apple orange banana\"\n",
        "print(text.rsplit(\" \", 1))  # Output: ['apple orange', 'banana']\n"
      ],
      "metadata": {
        "colab": {
          "base_uri": "https://localhost:8080/"
        },
        "id": "AirpcRXofbbI",
        "outputId": "66ea3096-a434-4d9e-9e14-da7eeee4f49c"
      },
      "execution_count": 13,
      "outputs": [
        {
          "output_type": "stream",
          "name": "stdout",
          "text": [
            "['apple orange', 'banana']\n"
          ]
        }
      ]
    },
    {
      "cell_type": "markdown",
      "source": [
        "**Usage:**\n",
        "Used to split a string into parts starting from the right."
      ],
      "metadata": {
        "id": "PQlT69hNfkDe"
      }
    },
    {
      "cell_type": "markdown",
      "source": [
        "##rstrip()\n",
        "**Definition:**\n",
        "\n",
        "Removes trailing characters (like spaces) from the end of a string."
      ],
      "metadata": {
        "id": "ccHuVGJ2fq_Z"
      }
    },
    {
      "cell_type": "code",
      "source": [
        "text = \"hello   \"\n",
        "print(text.rstrip())  # Output: \"hello\"\n"
      ],
      "metadata": {
        "colab": {
          "base_uri": "https://localhost:8080/"
        },
        "id": "1cBREOxWgWtn",
        "outputId": "ac80a049-a8bf-40a9-dfc4-b1a23247d086"
      },
      "execution_count": 14,
      "outputs": [
        {
          "output_type": "stream",
          "name": "stdout",
          "text": [
            "hello\n"
          ]
        }
      ]
    },
    {
      "cell_type": "markdown",
      "source": [
        "**Usage:**\n",
        "Used to clean up spaces or other characters from the end of a string."
      ],
      "metadata": {
        "id": "vlo-lTDogay-"
      }
    },
    {
      "cell_type": "markdown",
      "source": [
        "##split()\n",
        "**Definition:**\n",
        "\n",
        "Divides a string into a list of substrings based on a separator."
      ],
      "metadata": {
        "id": "hYvipU0UgvXI"
      }
    },
    {
      "cell_type": "code",
      "source": [
        "text = \"apple orange banana\"\n",
        "print(text.split())  # Output: ['apple', 'orange', 'banana']\n"
      ],
      "metadata": {
        "colab": {
          "base_uri": "https://localhost:8080/"
        },
        "id": "VXYSWuXIgznr",
        "outputId": "327d19d9-3cf3-4277-9bd7-124e3c77343d"
      },
      "execution_count": 15,
      "outputs": [
        {
          "output_type": "stream",
          "name": "stdout",
          "text": [
            "['apple', 'orange', 'banana']\n"
          ]
        }
      ]
    },
    {
      "cell_type": "markdown",
      "source": [
        "**Usage:**\n",
        "Used to break a string into parts."
      ],
      "metadata": {
        "id": "W6sWjY0ig4we"
      }
    },
    {
      "cell_type": "markdown",
      "source": [
        "##splitlines()\n",
        "**Definition:**\n",
        "\n",
        "Splits a string into a list of lines."
      ],
      "metadata": {
        "id": "fWhCqlcfhX6I"
      }
    },
    {
      "cell_type": "code",
      "source": [
        "text = \"line1\\nline2\\nline3\"\n",
        "print(text.splitlines())  # Output: ['line1', 'line2', 'line3']\n"
      ],
      "metadata": {
        "colab": {
          "base_uri": "https://localhost:8080/"
        },
        "id": "D2WToVRNhcfN",
        "outputId": "9e501b42-cf2e-4d81-9a14-187eb05792d2"
      },
      "execution_count": 16,
      "outputs": [
        {
          "output_type": "stream",
          "name": "stdout",
          "text": [
            "['line1', 'line2', 'line3']\n"
          ]
        }
      ]
    },
    {
      "cell_type": "markdown",
      "source": [
        "**Usage:**\n",
        "Used to break a string into separate lines."
      ],
      "metadata": {
        "id": "y6ijTi2Zhfsj"
      }
    },
    {
      "cell_type": "markdown",
      "source": [
        "##startswith()\n",
        "**Definition:**\n",
        "\n",
        "Checks if a string starts with a specified prefix."
      ],
      "metadata": {
        "id": "12I6LpHUhnZ2"
      }
    },
    {
      "cell_type": "code",
      "source": [
        "text = \"hello world\"\n",
        "print(text.startswith(\"hello\"))  # Output: True\n"
      ],
      "metadata": {
        "colab": {
          "base_uri": "https://localhost:8080/"
        },
        "id": "8JmTJLr1iJl_",
        "outputId": "12af6b97-d69c-4ea3-f160-95edf3c3b4c4"
      },
      "execution_count": 17,
      "outputs": [
        {
          "output_type": "stream",
          "name": "stdout",
          "text": [
            "True\n"
          ]
        }
      ]
    },
    {
      "cell_type": "markdown",
      "source": [
        "**Usage:**\n",
        "Used to see if a string begins with certain text."
      ],
      "metadata": {
        "id": "ONz2XGphiNo9"
      }
    },
    {
      "cell_type": "markdown",
      "source": [
        "##strip()\n",
        "**Definition:**\n",
        "\n",
        "Removes spaces or specified characters from both ends of a string."
      ],
      "metadata": {
        "id": "nk8QYst-iX73"
      }
    },
    {
      "cell_type": "code",
      "source": [
        "text = \"   hello   \"\n",
        "print(text.strip())  # Output: \"hello\"\n"
      ],
      "metadata": {
        "colab": {
          "base_uri": "https://localhost:8080/"
        },
        "id": "mCShs5eEimgW",
        "outputId": "28a1888b-347b-4a0b-afbe-ef97d36a67c6"
      },
      "execution_count": 18,
      "outputs": [
        {
          "output_type": "stream",
          "name": "stdout",
          "text": [
            "hello\n"
          ]
        }
      ]
    },
    {
      "cell_type": "markdown",
      "source": [
        "**Usage:**\n",
        "Used to clean up spaces or characters from the start and end of a string."
      ],
      "metadata": {
        "id": "pqz44vRsirx1"
      }
    },
    {
      "cell_type": "markdown",
      "source": [
        "##swapcase()\n",
        "**Definition:**\n",
        "\n",
        "The swapcase() method returns a copy of the string with all uppercase letters converted to lowercase and all lowercase letters converted to uppercase."
      ],
      "metadata": {
        "id": "1GMX_GS2ixWb"
      }
    },
    {
      "cell_type": "code",
      "source": [
        "text = \"Hello World\"\n",
        "print(text.swapcase())  # Output: \"hELLO wORLD\"\n"
      ],
      "metadata": {
        "colab": {
          "base_uri": "https://localhost:8080/"
        },
        "id": "oCPvEpdEjEXd",
        "outputId": "c447629f-8f0a-49c8-db13-69895e2976bc"
      },
      "execution_count": 19,
      "outputs": [
        {
          "output_type": "stream",
          "name": "stdout",
          "text": [
            "hELLO wORLD\n"
          ]
        }
      ]
    },
    {
      "cell_type": "markdown",
      "source": [
        "**Usage:**\n",
        "Used to swap the case of each letter in the string."
      ],
      "metadata": {
        "id": "4-ur7K_GjIYH"
      }
    },
    {
      "cell_type": "markdown",
      "source": [
        "##title()\n",
        "**Definition:**\n",
        "\n",
        "The title() method returns a copy of the string with the first letter of each word capitalized and all other letters in lowercase."
      ],
      "metadata": {
        "id": "ORL0LxrgjQz9"
      }
    },
    {
      "cell_type": "code",
      "source": [
        "text = \"hello world\"\n",
        "print(text.title())  # Output: \"Hello World\"\n"
      ],
      "metadata": {
        "colab": {
          "base_uri": "https://localhost:8080/"
        },
        "id": "tG481jyYjeTj",
        "outputId": "e1458d66-596b-472f-c56a-f771047377e2"
      },
      "execution_count": 20,
      "outputs": [
        {
          "output_type": "stream",
          "name": "stdout",
          "text": [
            "Hello World\n"
          ]
        }
      ]
    },
    {
      "cell_type": "markdown",
      "source": [
        "**Usage:**\n",
        "Used to format a string with each word starting with an uppercase letter."
      ],
      "metadata": {
        "id": "kARnYECIjhiC"
      }
    },
    {
      "cell_type": "markdown",
      "source": [
        "##translate()\n",
        "**Definition:**\n",
        "\n",
        "Replaces characters in a string based on a translation table."
      ],
      "metadata": {
        "id": "wiv7DMUJj4Uf"
      }
    },
    {
      "cell_type": "code",
      "source": [
        "trans_table = str.maketrans(\"abc\", \"123\")\n",
        "text = \"abc\"\n",
        "print(text.translate(trans_table))  # Output: \"123\"\n"
      ],
      "metadata": {
        "colab": {
          "base_uri": "https://localhost:8080/"
        },
        "id": "x69mE2Kuj9pm",
        "outputId": "f32a7fe0-32b0-44b2-81df-2cb3d68cddc9"
      },
      "execution_count": 21,
      "outputs": [
        {
          "output_type": "stream",
          "name": "stdout",
          "text": [
            "123\n"
          ]
        }
      ]
    },
    {
      "cell_type": "markdown",
      "source": [
        "**Usage:**\n",
        "Used to change specific characters in a string using a mapping."
      ],
      "metadata": {
        "id": "Y6Y-LPTRkBeG"
      }
    },
    {
      "cell_type": "markdown",
      "source": [
        "##upper()\n",
        "**Definition:**\n",
        "\n",
        "The upper() method returns a copy of the string with all lowercase letters converted to uppercase."
      ],
      "metadata": {
        "id": "YdNPkWllkHbv"
      }
    },
    {
      "cell_type": "code",
      "source": [
        "text = \"hello world\"\n",
        "print(text.upper())  # Output: \"HELLO WORLD\"\n"
      ],
      "metadata": {
        "colab": {
          "base_uri": "https://localhost:8080/"
        },
        "id": "pwGmTsc6kk4S",
        "outputId": "7001ed99-66b1-4245-c8a7-e4b087889d5e"
      },
      "execution_count": 22,
      "outputs": [
        {
          "output_type": "stream",
          "name": "stdout",
          "text": [
            "HELLO WORLD\n"
          ]
        }
      ]
    },
    {
      "cell_type": "markdown",
      "source": [
        "**Usage:**\n",
        "Used to convert all letters in a string to uppercase."
      ],
      "metadata": {
        "id": "tug_BBqfknxA"
      }
    },
    {
      "cell_type": "markdown",
      "source": [
        "##zfill()\n",
        "**Definition:**\n",
        "\n",
        "Pads a string with zeros on the left to make it a specific length."
      ],
      "metadata": {
        "id": "l_zig-vAkvDh"
      }
    },
    {
      "cell_type": "code",
      "source": [
        "text = \"42\"\n",
        "print(text.zfill(5))  # Output: \"00042\"\n"
      ],
      "metadata": {
        "colab": {
          "base_uri": "https://localhost:8080/"
        },
        "id": "dJJxSdlQk4LG",
        "outputId": "89143eed-53be-42d9-92f4-f847ef89a018"
      },
      "execution_count": 23,
      "outputs": [
        {
          "output_type": "stream",
          "name": "stdout",
          "text": [
            "00042\n"
          ]
        }
      ]
    },
    {
      "cell_type": "markdown",
      "source": [
        "**Usage:**\n",
        "Used to add leading zeros to a string."
      ],
      "metadata": {
        "id": "r1AkIVqOk7Ft"
      }
    }
  ]
}